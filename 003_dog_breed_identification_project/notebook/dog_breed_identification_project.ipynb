{
  "nbformat": 4,
  "nbformat_minor": 0,
  "metadata": {
    "colab": {
      "provenance": []
    },
    "kernelspec": {
      "name": "python3",
      "display_name": "Python 3"
    },
    "language_info": {
      "name": "python"
    },
    "accelerator": "GPU",
    "gpuClass": "standard"
  },
  "cells": [
    {
      "cell_type": "markdown",
      "source": [
        "# End-to-end Multi-class Dog Breed Classification\n",
        "\n",
        "This notebook builds multiclass classifier using TensorFlow and TensorFlow Hub.\n",
        "\n",
        "## 1. Problem \n",
        "\n",
        "Identifying the breed of a dog given an image of a dog.\n",
        "\n",
        "## 2. Data \n",
        "\n",
        "The data we are using is from Kaggle's dog breed identification competition.\n",
        "\n",
        "https://www.kaggle.com/competitions/dog-breed-identification/data\n",
        "\n",
        "## 3. Evaluation \n",
        "\n",
        "The evaluation is a file with prediction probabilities for each dog breed of each test image.\n",
        "\n",
        "https://www.kaggle.com/competitions/dog-breed-identification/overview/evaluation\n",
        "\n",
        "## 4. Features\n",
        "\n",
        "Some information about the data: \n",
        "* We are dealing with images (unstructured data) so it is probably best we use deep learning/transfer learning.\n",
        "* There are 120 breeds of dogs (this means there are 120 different classes).\n",
        "* There are around 10,000+ images in the training set. (these images have labels).\n",
        "* There are around 10,000+ images in the test set (these images have no labels, because we will want to predict them).\n"
      ],
      "metadata": {
        "id": "1fF56C6XzYv2"
      }
    },
    {
      "cell_type": "code",
      "source": [
        "# Unzip the uploaded date into Google Drive\n",
        "# !unzip \"/content/drive/MyDrive/Dog Vision/dog-breed-identification.zip\" -d \"/content/drive/MyDrive/Dog Vision\""
      ],
      "metadata": {
        "id": "q4nDKEmiayEb"
      },
      "execution_count": 1,
      "outputs": []
    },
    {
      "cell_type": "markdown",
      "source": [
        "### Get our workspace ready\n",
        "\n",
        "* Import TEnsorFlow 2.x\n",
        "* Import TensoFlow Hub\n",
        "* Make sure we are using a GPU"
      ],
      "metadata": {
        "id": "UFFOM8764V42"
      }
    },
    {
      "cell_type": "code",
      "source": [
        "# Import TensorFlow and necessary tools into Colab\n",
        "import tensorflow as tf\n",
        "import tensorflow_hub as hub\n",
        "print(\"TF version:\", tf.__version__)\n",
        "print(\"TF version:\", hub.__version__)\n",
        "\n",
        "# Check for GPU availability\n",
        "print(\"GPU\", \"available (YESSSSS!!!!!)\" if tf.config.list_physical_devices(\"GPU\") else \"not available :(\")"
      ],
      "metadata": {
        "colab": {
          "base_uri": "https://localhost:8080/"
        },
        "id": "6ALpW6-6y9EP",
        "outputId": "eee35e4f-cdc0-41f0-9b0f-5c3d443a6317"
      },
      "execution_count": 1,
      "outputs": [
        {
          "output_type": "stream",
          "name": "stdout",
          "text": [
            "TF version: 2.9.2\n",
            "TF version: 0.12.0\n",
            "GPU available (YESSSSS!!!!!)\n"
          ]
        }
      ]
    },
    {
      "cell_type": "code",
      "source": [],
      "metadata": {
        "id": "HCukEORf5xw9"
      },
      "execution_count": 2,
      "outputs": []
    }
  ]
}