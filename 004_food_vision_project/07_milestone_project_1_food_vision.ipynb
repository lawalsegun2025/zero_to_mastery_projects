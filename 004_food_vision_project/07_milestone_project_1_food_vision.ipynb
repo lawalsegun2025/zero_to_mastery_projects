{
  "nbformat": 4,
  "nbformat_minor": 0,
  "metadata": {
    "colab": {
      "provenance": [],
      "gpuType": "T4"
    },
    "kernelspec": {
      "name": "python3",
      "display_name": "Python 3"
    },
    "language_info": {
      "name": "python"
    },
    "gpuClass": "standard"
  },
  "cells": [
    {
      "cell_type": "markdown",
      "source": [
        "# Milestone Project 1: Food Vision Big\n",
        "\n",
        "See the annoted verion of this notebook on GitHub: https://github.com/mrdbourke/tensorflow-deep-learning/blob/main/07_food_vision_milestone_project_1.ipynb\n",
        "\n",
        "https://github.com/mrdbourke/tensorflow-deep-learning/blob/main/extras/TEMPLATE_07_food_vision_milestone_project_1.ipynb"
      ],
      "metadata": {
        "id": "dJ6HrEbfAYMh"
      }
    },
    {
      "cell_type": "markdown",
      "source": [
        "## Check GPU\n",
        "\n",
        "Google Colab offers free GPUs, however, not all of them are compatible with mixed precision training. \n",
        "\n",
        "Google Colab offers:\n",
        "* K80 (not compatible)\n",
        "* P100 (not compatible) \n",
        "* Tesla T4 (comptible) \n",
        "\n",
        "Knowing this, in order to use mixed precision training we need access to a Tesla T4 (from within Google Colab) or if we are using our own hardware, our GPU needs a score of 7.0+."
      ],
      "metadata": {
        "id": "980q4JtwEyjP"
      }
    },
    {
      "cell_type": "code",
      "source": [
        "!nvidia-smi -L"
      ],
      "metadata": {
        "colab": {
          "base_uri": "https://localhost:8080/"
        },
        "id": "G0sGh6ffFtHJ",
        "outputId": "58daecb2-4e5d-4fc8-ec90-080840e45342"
      },
      "execution_count": 1,
      "outputs": [
        {
          "output_type": "stream",
          "name": "stdout",
          "text": [
            "/bin/bash: nvidia-smi: command not found\n"
          ]
        }
      ]
    },
    {
      "cell_type": "markdown",
      "source": [
        "## Get helper functions \n",
        "\n",
        "In past modules we have created helpre functions to do small tasks required for our notebooks. \n",
        "\n",
        "Rather that rewrite all of these, we can import a script and load them in. \n",
        "\n"
      ],
      "metadata": {
        "id": "TW3xtd03KIO5"
      }
    },
    {
      "cell_type": "code",
      "source": [
        "# Load helper function script\n",
        "# Import helper functions\n",
        "import sys\n",
        "sys.path.append(\"/content/drive/MyDrive/TensorFlow_Developer_ztm\")\n",
        "from helper_functions import create_tensorboard_callback, plot_loss_curves, compare_historys, walk_through_dir  "
      ],
      "metadata": {
        "id": "WEfWFHpnL6x2"
      },
      "execution_count": 2,
      "outputs": []
    },
    {
      "cell_type": "markdown",
      "source": [
        "## Use TensorFlow Datasets to Download Data"
      ],
      "metadata": {
        "id": "r8siOyuRbdVC"
      }
    },
    {
      "cell_type": "code",
      "source": [],
      "metadata": {
        "id": "CcJDiPjTbpTs"
      },
      "execution_count": null,
      "outputs": []
    }
  ]
}